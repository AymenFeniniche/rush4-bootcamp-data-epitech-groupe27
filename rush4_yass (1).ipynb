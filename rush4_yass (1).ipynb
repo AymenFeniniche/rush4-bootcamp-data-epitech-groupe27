{
 "cells": [
  {
   "cell_type": "code",
   "execution_count": 21,
   "metadata": {
    "id": "gJlt_5uwEe9E"
   },
   "outputs": [],
   "source": [
    "import pandas as pd\n",
    "import numpy as np\n",
    "\n",
    "import warnings\n",
    "warnings.filterwarnings(\"ignore\")\n",
    "import matplotlib.pyplot as plt\n",
    "import seaborn as sns\n",
    "pd.set_option('display.max_columns', None)\n",
    "from pathlib import Path\n",
    "import csv\n",
    "\n",
    "\n",
    "from datetime import date, datetime"
   ]
  },
  {
   "cell_type": "markdown",
   "metadata": {},
   "source": [
    "**EDA**"
   ]
  },
  {
   "cell_type": "code",
   "execution_count": 3,
   "metadata": {
    "colab": {
     "base_uri": "https://localhost:8080/",
     "height": 339
    },
    "id": "jWuuPRqwE2a2",
    "outputId": "130172bb-7d7b-4cb9-a8f0-d30dd0a54955"
   },
   "outputs": [
    {
     "ename": "SyntaxError",
     "evalue": "unmatched ')' (2173524068.py, line 1)",
     "output_type": "error",
     "traceback": [
      "  \u001b[36mCell\u001b[39m\u001b[36m \u001b[39m\u001b[32mIn[3]\u001b[39m\u001b[32m, line 1\u001b[39m\n\u001b[31m    \u001b[39m\u001b[31mdf = pd.read_csv('Camp_Market.csv', sep=';'))\u001b[39m\n                                                ^\n\u001b[31mSyntaxError\u001b[39m\u001b[31m:\u001b[39m unmatched ')'\n"
     ]
    }
   ],
   "source": [
    "df = pd.read_csv('Camp_Market.csv', sep=';'))\n",
    "df.head()\n",
    "\n",
    "#lis le fichier/charge les données\n"
   ]
  },
  {
   "cell_type": "code",
   "execution_count": null,
   "metadata": {
    "id": "JqOcRLbXEvx6"
   },
   "outputs": [],
   "source": [
    "df.shape\n",
    "#affiche le nb de ligne et de colonne"
   ]
  },
  {
   "cell_type": "code",
   "execution_count": null,
   "metadata": {
    "id": "KMTpMx-nFuD6"
   },
   "outputs": [],
   "source": [
    "df.info()"
   ]
  },
  {
   "cell_type": "code",
   "execution_count": null,
   "metadata": {
    "id": "lTluT6u7Fx1a"
   },
   "outputs": [],
   "source": [
    "df.isnull().sum()\n",
    "#affiche le nb de valeur manquantes/nulles"
   ]
  },
  {
   "cell_type": "code",
   "execution_count": null,
   "metadata": {
    "id": "evLhwuq2F69O"
   },
   "outputs": [],
   "source": [
    "#conversion des colonnes to DateTime format\n",
    "df[\"Dt_Customer\"] = pd.to_datetime(df[\"Dt_Customer\"], dayfirst=True, errors=\"coerce\")\n",
    "\n",
    "df.rename(columns = {'MntGoldProds':'MntGoldProducts'}, inplace = True)\n"
   ]
  },
  {
   "cell_type": "code",
   "execution_count": null,
   "metadata": {
    "id": "-RjpzPdJNizy"
   },
   "outputs": [],
   "source": [
    "#clients sans revenue (revenus manquants)\n",
    "clients_sans_income = df[df['Income'].isna()]\n",
    "clients_sans_income.head()\n",
    "clients_sans_income.shape[0]"
   ]
  },
  {
   "cell_type": "markdown",
   "metadata": {
    "id": "eK4y7CNEO26k"
   },
   "source": [
    "**Feature engineering**"
   ]
  },
  {
   "cell_type": "code",
   "execution_count": null,
   "metadata": {
    "id": "-VWLncy7OtdJ"
   },
   "outputs": [],
   "source": [
    "#tri le nb de valeurs pour \"education\"\n",
    "df['Education'].value_counts()"
   ]
  },
  {
   "cell_type": "code",
   "execution_count": null,
   "metadata": {
    "id": "G1XEYWdsO01m"
   },
   "outputs": [],
   "source": [
    "df['Marital_Status'].value_counts()"
   ]
  },
  {
   "cell_type": "code",
   "execution_count": null,
   "metadata": {
    "id": "DDPv5hlxOuqh"
   },
   "outputs": [],
   "source": [
    "#drop les colonnes inutiles\n",
    "df.drop(['ID','Z_CostContact','Z_Revenue'], axis=1, inplace=True)"
   ]
  },
  {
   "cell_type": "code",
   "execution_count": null,
   "metadata": {
    "id": "UO_ncXuuQNbG"
   },
   "outputs": [],
   "source": [
    "df[\"Education_Level\"]=df[\"Education\"].replace({\"Basic\":\"Undergraduate\",\"2n Cycle\":\"Undergraduate\", \"Graduation\":\"Graduate\", \"Master\":\"Postgraduate\", \"PhD\":\"Postgraduate\"})"
   ]
  },
  {
   "cell_type": "code",
   "execution_count": null,
   "metadata": {
    "id": "4BNQckXLbgQL"
   },
   "outputs": [],
   "source": [
    "#quantité total depensée\n",
    "df[\"TotalMntSpent\"] = df[\"MntWines\"] + df[\"MntFruits\"] + df[\"MntMeatProducts\"] + df[\"MntFishProducts\"] + df[\"MntSweetProducts\"] + df[\"MntGoldProducts\"]\n",
    "\n",
    "#statut marital parternairfe ou non\n",
    "df[\"Partner\"] = df[\"Marital_Status\"].replace({\"Married\": \"Yes\", \"Together\": \"Yes\", \"Absurd\": \"No\", \"Widow\": \"No\", \"YOLO\": \"No\", \"Divorced\": \"No\", \"Single\": \"No\", \"Alone\": \"No\"})\n",
    "\n",
    "#segmentation du niveau d'education\n",
    "df[\"Education_Level\"]=df[\"Education\"].replace({\"Basic\":\"Undergraduate\",\"2n Cycle\":\"Undergraduate\", \"Graduation\":\"Graduate\", \"Master\":\"Postgraduate\", \"PhD\":\"Postgraduate\"})\n",
    "\n",
    "#calcul total d'enfants\n",
    "df[\"Children\"] = df[\"Kidhome\"] +  df[\"Teenhome\"]\n",
    "\n",
    "df['Years_Customer'] = (df[\"Dt_Customer\"].dt.year.max()) - (df['Dt_Customer'].dt.year)\n",
    "df['Days_Customer'] = (df[\"Dt_Customer\"].max()) - (df['Dt_Customer'])\n",
    "\n",
    "#calcul age\n",
    "df[\"Age\"] = (df[\"Dt_Customer\"].dt.year.max()) - (df['Year_Birth'].dt.year)\n",
    "\n",
    "#division des ages en groupe\n",
    "df['Age_Group'] = pd.cut(x = df['Age'], bins = [1, 17, 24, 44, 64, 150], labels = ['Under 18','Young adult','Adult','Middel Aged','Senior'])\n",
    "\n",
    "#nb total de campagnes acceptées\n",
    "df['Total_Acc_Cmp'] = df['AcceptedCmp1'] + df['AcceptedCmp2'] + df['AcceptedCmp3'] + df['AcceptedCmp4'] + df['AcceptedCmp5'] + df['Response']\n",
    "\n",
    "\n"
   ]
  },
  {
   "cell_type": "code",
   "execution_count": null,
   "metadata": {
    "id": "LyqQNTV7PtAI"
   },
   "outputs": [],
   "source": [
    "print(df.shape)\n",
    "df.head()"
   ]
  },
  {
   "cell_type": "code",
   "execution_count": null,
   "metadata": {
    "id": "eCgEp3zPaTpO"
   },
   "outputs": [],
   "source": [
    "df[\"Dt_Customer\"] = pd.to_datetime(df[\"Dt_Customer\"], dayfirst=True, errors=\"coerce\")\n"
   ]
  },
  {
   "cell_type": "code",
   "execution_count": 18,
   "metadata": {
    "id": "0kqn8QNl8ea4"
   },
   "outputs": [
    {
     "ename": "NameError",
     "evalue": "name 'df' is not defined",
     "output_type": "error",
     "traceback": [
      "\u001b[31m---------------------------------------------------------------------------\u001b[39m",
      "\u001b[31mNameError\u001b[39m                                 Traceback (most recent call last)",
      "\u001b[36mCell\u001b[39m\u001b[36m \u001b[39m\u001b[32mIn[18]\u001b[39m\u001b[32m, line 3\u001b[39m\n\u001b[32m      1\u001b[39m \u001b[38;5;66;03m#valeurs uniques dans le dataset selon chaque colonnes\u001b[39;00m\n\u001b[32m      2\u001b[39m unique_number = []\n\u001b[32m----> \u001b[39m\u001b[32m3\u001b[39m \u001b[38;5;28;01mfor\u001b[39;00m i \u001b[38;5;129;01min\u001b[39;00m \u001b[43mdf\u001b[49m.columns:\n\u001b[32m      4\u001b[39m     x = df[i].value_counts().count()\n\u001b[32m      5\u001b[39m     unique_number.append(x)\n",
      "\u001b[31mNameError\u001b[39m: name 'df' is not defined"
     ]
    }
   ],
   "source": [
    "#valeurs uniques dans le dataset selon chaque colonnes\n",
    "unique_number = []\n",
    "for i in df.columns:\n",
    "    x = df[i].value_counts().count()\n",
    "    unique_number.append(x)\n",
    "\n",
    "pd.DataFrame(unique_number, index = df.columns, columns = [\"Total Unique Values\"])"
   ]
  },
  {
   "cell_type": "code",
   "execution_count": null,
   "metadata": {
    "id": "VQwruMwETWJP"
   },
   "outputs": [],
   "source": [
    "#Graphique histogramme sur variables numériques\n",
    "num_cols = df.select_dtypes(include=['int', 'float']).columns\n",
    "\n",
    "# Nombre de colonnes numériques\n",
    "n = len(num_cols)\n",
    "\n",
    "# Dimensions de la grille (ajuste selon ton nombre de colonnes)\n",
    "n_cols = 3\n",
    "n_rows = (n + n_cols - 1) // n_cols  # arrondi vers le haut\n",
    "\n",
    "fig, axes = plt.subplots(n_rows, n_cols, figsize=(15, 5 * n_rows))\n",
    "axes = axes.flatten()  # pour parcourir facilement les axes\n",
    "colors = ['#8A2BE2', '#7B68EE', '#6A5ACD', '#483D8B', '#4169E1', '#6495ED']  # 6 tons\n",
    "\n",
    "for i, col in enumerate(num_cols):\n",
    "    color = colors[i % len(colors)]\n",
    "    df[col].plot(kind='hist',bins=20, color=color, edgecolor='black', ax=axes[i])\n",
    "\n",
    "# Masquer les cases vides si le nombre de colonnes n’est pas multiple de n_cols\n",
    "for j in range(i + 1, len(axes)):\n",
    "    axes[j].set_visible(False)\n",
    "\n",
    "plt.tight_layout()\n",
    "plt.show()\n"
   ]
  },
  {
   "cell_type": "code",
   "execution_count": 2,
   "metadata": {
    "id": "2BrGcylXpFUq"
   },
   "outputs": [
    {
     "ename": "NameError",
     "evalue": "name 'df' is not defined",
     "output_type": "error",
     "traceback": [
      "\u001b[31m---------------------------------------------------------------------------\u001b[39m",
      "\u001b[31mNameError\u001b[39m                                 Traceback (most recent call last)",
      "\u001b[36mCell\u001b[39m\u001b[36m \u001b[39m\u001b[32mIn[2]\u001b[39m\u001b[32m, line 2\u001b[39m\n\u001b[32m      1\u001b[39m \u001b[38;5;66;03m# Calcul de la matrice de corrélation\u001b[39;00m\n\u001b[32m----> \u001b[39m\u001b[32m2\u001b[39m corr_matrix = \u001b[43mdf\u001b[49m.corr(numeric_only=\u001b[38;5;28;01mTrue\u001b[39;00m)\n\u001b[32m      4\u001b[39m \u001b[38;5;66;03m# Taille du graphique\u001b[39;00m\n\u001b[32m      5\u001b[39m plt.figure(figsize=(\u001b[32m14\u001b[39m, \u001b[32m10\u001b[39m))\n",
      "\u001b[31mNameError\u001b[39m: name 'df' is not defined"
     ]
    }
   ],
   "source": [
    "# Calcul de la matrice de corrélation\n",
    "corr_matrix = df.corr(numeric_only=True)\n",
    "\n",
    "# Taille du graphique\n",
    "plt.figure(figsize=(14, 10))\n",
    "\n",
    "# Heatmap\n",
    "sns.heatmap(\n",
    "    corr_matrix,\n",
    "    annot=True,\n",
    "    fmt=\".2f\",\n",
    "    cmap=\"coolwarm\",\n",
    "    center=0,\n",
    "    square=True,\n",
    "    linewidths=0.5,\n",
    "    cbar_kws={\"shrink\": 0.8},\n",
    "    annot_kws={\"size\": 8})\n",
    "\n",
    "plt.title(\"Matrice de corrélation\", fontsize=16, fontweight='bold')\n",
    "plt.xticks(rotation=45, ha='right')\n",
    "plt.yticks(rotation=0)\n",
    "plt.tight_layout()\n",
    "plt.show()"
   ]
  },
  {
   "cell_type": "code",
   "execution_count": null,
   "metadata": {},
   "outputs": [],
   "source": [
    "# Normalisation des colonnes numériques\n",
    "from sklearn.impute import SimpleImputer\n",
    "from sklearn.preprocessing import StandardScaler, MinMaxScaler\n",
    "\n",
    "# sélectionner les colonnes numériques\n",
    "num_cols = df.select_dtypes(include=['int', 'float']).columns.tolist()\n",
    "print('Colonnes numériques trouvées :', num_cols)\n",
    "\n",
    "# imputer les valeurs manquantes avec la médiane (sécurisé pour outliers)\n",
    "imputer = SimpleImputer(strategy='median')\n",
    "df_num = pd.DataFrame(imputer.fit_transform(df[num_cols]), columns=num_cols, index=df.index)\n",
    "\n",
    "# Standardisation (moyenne 0, écart-type 1)\n",
    "scaler = StandardScaler()\n",
    "df_std = pd.DataFrame(scaler.fit_transform(df_num), columns=[f'{c}_std' for c in num_cols], index=df.index)\n",
    "\n",
    "# Min-Max scaling (0-1)\n",
    "mmsc = MinMaxScaler()\n",
    "df_mm = pd.DataFrame(mmsc.fit_transform(df_num), columns=[f'{c}_mm' for c in num_cols], index=df.index)\n",
    "\n",
    "# concaténer les colonnes normalisées au DataFrame original (optionnel : assigner en place)\n",
    "df = pd.concat([df, df_std, df_mm], axis=1)\n",
    "\n",
    "print('Normalisation terminée. Colonnes ajoutées :', list(df_std.columns)[:5], '...')\n"
   ]
  },
  {
   "cell_type": "code",
   "execution_count": null,
   "metadata": {
    "id": "dEqPQ7bZWtAH"
   },
   "outputs": [],
   "source": []
  }
 ],
 "metadata": {
  "colab": {
   "provenance": []
  },
  "kernelspec": {
   "display_name": "Python 3",
   "name": "python3"
  },
  "language_info": {
   "codemirror_mode": {
    "name": "ipython",
    "version": 3
   },
   "file_extension": ".py",
   "mimetype": "text/x-python",
   "name": "python",
   "nbconvert_exporter": "python",
   "pygments_lexer": "ipython3",
   "version": "3.12.10"
  }
 },
 "nbformat": 4,
 "nbformat_minor": 0
}
